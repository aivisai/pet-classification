{
  "nbformat": 4,
  "nbformat_minor": 0,
  "metadata": {
    "colab": {
      "name": "Pet Classification.ipynb",
      "provenance": [],
      "collapsed_sections": []
    },
    "kernelspec": {
      "name": "python3",
      "display_name": "Python 3"
    },
    "accelerator": "GPU"
  },
  "cells": [
    {
      "cell_type": "markdown",
      "metadata": {
        "id": "zqsAGQzmBudA",
        "colab_type": "text"
      },
      "source": [
        "# Cats v/s Dogs Classification"
      ]
    },
    {
      "cell_type": "markdown",
      "metadata": {
        "id": "k3lW-xn5D1es",
        "colab_type": "text"
      },
      "source": [
        "### Note - Change runtime to GPU"
      ]
    },
    {
      "cell_type": "markdown",
      "metadata": {
        "id": "lHpou40_C352",
        "colab_type": "text"
      },
      "source": [
        "## Imports"
      ]
    },
    {
      "cell_type": "code",
      "metadata": {
        "id": "CXDQxGKRBDtR",
        "colab_type": "code",
        "colab": {}
      },
      "source": [
        "import os\n",
        "from zipfile import ZipFile\n",
        "import shutil\n",
        "import random\n",
        "\n",
        "import numpy as np\n",
        "import tensorflow as tf\n",
        "\n",
        "from tensorflow.keras.preprocessing.image import ImageDataGenerator, img_to_array\n",
        "\n",
        "from tensorflow.keras import Model\n",
        "from tensorflow.keras.layers import InputLayer, Conv2D, MaxPool2D, Flatten, Dense"
      ],
      "execution_count": null,
      "outputs": []
    },
    {
      "cell_type": "code",
      "metadata": {
        "id": "gGEZYG60x76c",
        "colab_type": "code",
        "colab": {
          "base_uri": "https://localhost:8080/",
          "height": 34
        },
        "outputId": "df25b06d-5b4f-40c4-f640-931025f4ec8e"
      },
      "source": [
        "print(tf.version.VERSION)"
      ],
      "execution_count": null,
      "outputs": [
        {
          "output_type": "stream",
          "text": [
            "2.2.0\n"
          ],
          "name": "stdout"
        }
      ]
    },
    {
      "cell_type": "markdown",
      "metadata": {
        "id": "sXpZpZKeC_Kt",
        "colab_type": "text"
      },
      "source": [
        "## Dataset Prep"
      ]
    },
    {
      "cell_type": "markdown",
      "metadata": {
        "id": "k9fHZWK3B05S",
        "colab_type": "text"
      },
      "source": [
        "### Get the Dataset\n",
        "1. Download the Dataset from here - https://www.kaggle.com/c/dogs-vs-cats/data.  \n",
        "2. Upload it to your Google Drive and then use the following code to mount the dataset on Google Colab  \n",
        "a. !cp '/content/gdrive/My Drive/< file_path_on_google_drive >' < file_path_in_colab >"
      ]
    },
    {
      "cell_type": "code",
      "metadata": {
        "id": "do-L2fga__FK",
        "colab_type": "code",
        "colab": {
          "base_uri": "https://localhost:8080/",
          "height": 121
        },
        "outputId": "b0ec7b7c-5634-4a87-b251-e11589cbeb5b"
      },
      "source": [
        "from google.colab import drive\n",
        "drive.mount('/content/gdrive')\n",
        "\n",
        "!cp '/content/gdrive/My Drive/Datasets/dogs-vs-cats.zip' '/tmp/dogs-vs-cats.zip'"
      ],
      "execution_count": null,
      "outputs": [
        {
          "output_type": "stream",
          "text": [
            "Go to this URL in a browser: https://accounts.google.com/o/oauth2/auth?client_id=947318989803-6bn6qk8qdgf4n4g3pfee6491hc0brc4i.apps.googleusercontent.com&redirect_uri=urn%3aietf%3awg%3aoauth%3a2.0%3aoob&response_type=code&scope=email%20https%3a%2f%2fwww.googleapis.com%2fauth%2fdocs.test%20https%3a%2f%2fwww.googleapis.com%2fauth%2fdrive%20https%3a%2f%2fwww.googleapis.com%2fauth%2fdrive.photos.readonly%20https%3a%2f%2fwww.googleapis.com%2fauth%2fpeopleapi.readonly\n",
            "\n",
            "Enter your authorization code:\n",
            "··········\n",
            "Mounted at /content/gdrive\n"
          ],
          "name": "stdout"
        }
      ]
    },
    {
      "cell_type": "markdown",
      "metadata": {
        "id": "JLkOqxLPELKH",
        "colab_type": "text"
      },
      "source": [
        "### Unzip the data"
      ]
    },
    {
      "cell_type": "code",
      "metadata": {
        "id": "uJtaz59auWaL",
        "colab_type": "code",
        "colab": {
          "base_uri": "https://localhost:8080/",
          "height": 350
        },
        "outputId": "ac2e59e5-2333-45f9-b9ce-53eeb15d2254"
      },
      "source": [
        "zip_location = '/tmp/dogs-vs-cats.zip'\n",
        "\n",
        "with ZipFile(zip_location, 'r') as zip:\n",
        "  zip.extractall('/tmp')"
      ],
      "execution_count": null,
      "outputs": [
        {
          "output_type": "error",
          "ename": "FileNotFoundError",
          "evalue": "ignored",
          "traceback": [
            "\u001b[0;31m---------------------------------------------------------------------------\u001b[0m",
            "\u001b[0;31mFileNotFoundError\u001b[0m                         Traceback (most recent call last)",
            "\u001b[0;32m<ipython-input-6-cd453664f6b0>\u001b[0m in \u001b[0;36m<module>\u001b[0;34m()\u001b[0m\n\u001b[1;32m      1\u001b[0m \u001b[0mzip_location\u001b[0m \u001b[0;34m=\u001b[0m \u001b[0;34m'/tmp/dogs-vs-cats.zip'\u001b[0m\u001b[0;34m\u001b[0m\u001b[0;34m\u001b[0m\u001b[0m\n\u001b[1;32m      2\u001b[0m \u001b[0;34m\u001b[0m\u001b[0m\n\u001b[0;32m----> 3\u001b[0;31m \u001b[0;32mwith\u001b[0m \u001b[0mZipFile\u001b[0m\u001b[0;34m(\u001b[0m\u001b[0mzip_location\u001b[0m\u001b[0;34m,\u001b[0m \u001b[0;34m'r'\u001b[0m\u001b[0;34m)\u001b[0m \u001b[0;32mas\u001b[0m \u001b[0mzip\u001b[0m\u001b[0;34m:\u001b[0m\u001b[0;34m\u001b[0m\u001b[0;34m\u001b[0m\u001b[0m\n\u001b[0m\u001b[1;32m      4\u001b[0m   \u001b[0mzip\u001b[0m\u001b[0;34m.\u001b[0m\u001b[0mextractall\u001b[0m\u001b[0;34m(\u001b[0m\u001b[0;34m'/tmp'\u001b[0m\u001b[0;34m)\u001b[0m\u001b[0;34m\u001b[0m\u001b[0;34m\u001b[0m\u001b[0m\n",
            "\u001b[0;32m/usr/lib/python3.6/zipfile.py\u001b[0m in \u001b[0;36m__init__\u001b[0;34m(self, file, mode, compression, allowZip64)\u001b[0m\n\u001b[1;32m   1111\u001b[0m             \u001b[0;32mwhile\u001b[0m \u001b[0;32mTrue\u001b[0m\u001b[0;34m:\u001b[0m\u001b[0;34m\u001b[0m\u001b[0;34m\u001b[0m\u001b[0m\n\u001b[1;32m   1112\u001b[0m                 \u001b[0;32mtry\u001b[0m\u001b[0;34m:\u001b[0m\u001b[0;34m\u001b[0m\u001b[0;34m\u001b[0m\u001b[0m\n\u001b[0;32m-> 1113\u001b[0;31m                     \u001b[0mself\u001b[0m\u001b[0;34m.\u001b[0m\u001b[0mfp\u001b[0m \u001b[0;34m=\u001b[0m \u001b[0mio\u001b[0m\u001b[0;34m.\u001b[0m\u001b[0mopen\u001b[0m\u001b[0;34m(\u001b[0m\u001b[0mfile\u001b[0m\u001b[0;34m,\u001b[0m \u001b[0mfilemode\u001b[0m\u001b[0;34m)\u001b[0m\u001b[0;34m\u001b[0m\u001b[0;34m\u001b[0m\u001b[0m\n\u001b[0m\u001b[1;32m   1114\u001b[0m                 \u001b[0;32mexcept\u001b[0m \u001b[0mOSError\u001b[0m\u001b[0;34m:\u001b[0m\u001b[0;34m\u001b[0m\u001b[0;34m\u001b[0m\u001b[0m\n\u001b[1;32m   1115\u001b[0m                     \u001b[0;32mif\u001b[0m \u001b[0mfilemode\u001b[0m \u001b[0;32min\u001b[0m \u001b[0mmodeDict\u001b[0m\u001b[0;34m:\u001b[0m\u001b[0;34m\u001b[0m\u001b[0;34m\u001b[0m\u001b[0m\n",
            "\u001b[0;31mFileNotFoundError\u001b[0m: [Errno 2] No such file or directory: '/tmp/dogs-vs-cats.zip'"
          ]
        }
      ]
    },
    {
      "cell_type": "code",
      "metadata": {
        "id": "O4OTTq8AC6pj",
        "colab_type": "code",
        "colab": {}
      },
      "source": [
        "train_zip_location = '/tmp/train.zip'\n",
        "test_zip_location = '/tmp/test1.zip'\n",
        "test_csv_location = '/tmp/sampleSubmission.csv'"
      ],
      "execution_count": null,
      "outputs": []
    },
    {
      "cell_type": "code",
      "metadata": {
        "id": "eeXOUQTZDYH-",
        "colab_type": "code",
        "colab": {}
      },
      "source": [
        "with ZipFile(train_zip_location, 'r') as zip:\n",
        "  zip.extractall('/tmp')"
      ],
      "execution_count": null,
      "outputs": []
    },
    {
      "cell_type": "code",
      "metadata": {
        "id": "ToH--3vuDdue",
        "colab_type": "code",
        "colab": {}
      },
      "source": [
        "with ZipFile(test_zip_location, 'r') as zip:\n",
        "  zip.extractall('/tmp')"
      ],
      "execution_count": null,
      "outputs": []
    },
    {
      "cell_type": "markdown",
      "metadata": {
        "id": "pjDaFvtIFrk_",
        "colab_type": "text"
      },
      "source": [
        "### Define Paths and Create Directories"
      ]
    },
    {
      "cell_type": "code",
      "metadata": {
        "id": "3436OWJwE_zB",
        "colab_type": "code",
        "colab": {}
      },
      "source": [
        "base_path = '/tmp'\n",
        "\n",
        "source_path = os.path.join(base_path, 'train') \n",
        "\n",
        "train_path = os.path.join(base_path, 'training')\n",
        "validation_path = os.path.join(base_path, 'validation')\n",
        "test_path = os.path.join(base_path, 'test1')\n",
        "\n",
        "train_cats_dir = os.path.join(train_path, 'cats')\n",
        "train_dogs_dir = os.path.join(train_path, 'dogs')\n",
        "\n",
        "validation_cats_dir = os.path.join(validation_path, 'cats')\n",
        "validation_dogs_dir = os.path.join(validation_path, 'dogs')"
      ],
      "execution_count": null,
      "outputs": []
    },
    {
      "cell_type": "code",
      "metadata": {
        "id": "SmPs-OIuFnYy",
        "colab_type": "code",
        "colab": {}
      },
      "source": [
        "try:\n",
        "  os.mkdir(train_path)\n",
        "  os.mkdir(validation_path)\n",
        "  os.mkdir(train_cats_dir)\n",
        "  os.mkdir(train_dogs_dir)\n",
        "  os.mkdir(validation_cats_dir)\n",
        "  os.mkdir(validation_dogs_dir)\n",
        "except OSError:\n",
        "  pass"
      ],
      "execution_count": null,
      "outputs": []
    },
    {
      "cell_type": "markdown",
      "metadata": {
        "id": "p62ROtP3Hfv-",
        "colab_type": "text"
      },
      "source": [
        "### Use 90% of Files for Training and 10% for Validation "
      ]
    },
    {
      "cell_type": "code",
      "metadata": {
        "id": "HZy1DtFmKgCD",
        "colab_type": "code",
        "colab": {}
      },
      "source": [
        "def copyfiles(source, list_of_files, train_dir, validation_dir, split_ratio=0.9):\n",
        "  random.shuffle(list_of_files)\n",
        "  split = int(len(list_of_files)*split_ratio)\n",
        "  train_data, validation_data = list_of_files[:split], list_of_files[split:]\n",
        "\n",
        "  for filename in train_data:\n",
        "    shutil.copyfile(os.path.join(source,filename), os.path.join(train_dir,filename))\n",
        "  \n",
        "  for filename in validation_data:\n",
        "    shutil.copyfile(os.path.join(source,filename), os.path.join(validation_dir,filename))\n"
      ],
      "execution_count": null,
      "outputs": []
    },
    {
      "cell_type": "code",
      "metadata": {
        "id": "kYF7eJbxHKw4",
        "colab_type": "code",
        "colab": {}
      },
      "source": [
        "def split_data(source, train_cats_dir, train_dogs_dir, validation_cats_dir, validation_dogs_dir, split_ratio = 0.9):\n",
        "  all_files = os.listdir(source)\n",
        "  cat_files = []\n",
        "  dog_files = []\n",
        "\n",
        "  for filename in all_files:\n",
        "    temp = filename.split('.')\n",
        "    if temp[0] == 'cat':\n",
        "      cat_files.append(filename)\n",
        "    else:\n",
        "      dog_files.append(filename)\n",
        "\n",
        "  copyfiles(source, cat_files, train_cats_dir, validation_cats_dir, split_ratio)\n",
        "  copyfiles(source, dog_files, train_dogs_dir, validation_dogs_dir, split_ratio)\n",
        "\n",
        "  return\n"
      ],
      "execution_count": null,
      "outputs": []
    },
    {
      "cell_type": "code",
      "metadata": {
        "id": "1tnj51ZnMR-3",
        "colab_type": "code",
        "colab": {}
      },
      "source": [
        "split_data(source_path, train_cats_dir, train_dogs_dir, validation_cats_dir, validation_dogs_dir, 0.9)"
      ],
      "execution_count": null,
      "outputs": []
    },
    {
      "cell_type": "markdown",
      "metadata": {
        "id": "XuWCEApzSGX3",
        "colab_type": "text"
      },
      "source": [
        "### Data Preprocessing"
      ]
    },
    {
      "cell_type": "code",
      "metadata": {
        "id": "NXt3iChMQLn4",
        "colab_type": "code",
        "colab": {
          "base_uri": "https://localhost:8080/",
          "height": 50
        },
        "outputId": "f391ecbc-0417-4610-bdfa-168da58fc2ca"
      },
      "source": [
        "train_datagen = ImageDataGenerator(rescale = 1./255,\n",
        "                                   rotation_range = 40,\n",
        "                                   width_shift_range = 0.2,\n",
        "                                   height_shift_range = 0.2,\n",
        "                                   shear_range = 0.2,\n",
        "                                   zoom_range = 0.2,\n",
        "                                   horizontal_flip = True)\n",
        "\n",
        "train_generator = train_datagen.flow_from_directory(train_path, batch_size = 128, class_mode = 'binary', target_size = (150,150))\n",
        "\n",
        "validation_datagen = ImageDataGenerator(rescale = 1./255)\n",
        "\n",
        "validation_generator = validation_datagen.flow_from_directory(validation_path, batch_size = 128, class_mode = 'binary', target_size = (150, 150))"
      ],
      "execution_count": null,
      "outputs": [
        {
          "output_type": "stream",
          "text": [
            "Found 24758 images belonging to 2 classes.\n",
            "Found 4758 images belonging to 2 classes.\n"
          ],
          "name": "stdout"
        }
      ]
    },
    {
      "cell_type": "markdown",
      "metadata": {
        "id": "oSMC06af4E7B",
        "colab_type": "text"
      },
      "source": [
        " ## Training"
      ]
    },
    {
      "cell_type": "markdown",
      "metadata": {
        "id": "DzBGE0W9u5q8",
        "colab_type": "text"
      },
      "source": [
        "Using Classes helps when you want to customize your models and it's layers - https://www.tensorflow.org/guide/keras/custom_layers_and_models \n",
        "\n",
        "If you want to Improve accuracy further you can try the following\n",
        "1. Increase Epochs\n",
        "2. Add Dropouts\n",
        "3. Add l2 regularization\n",
        "4. try adding more layers\n",
        "5. Add Batch Norm\n",
        "6. Use a PreTrained Model"
      ]
    },
    {
      "cell_type": "markdown",
      "metadata": {
        "id": "rNZT_zW34RKx",
        "colab_type": "text"
      },
      "source": [
        "### Define Model"
      ]
    },
    {
      "cell_type": "code",
      "metadata": {
        "id": "9pZLMxXHW7bG",
        "colab_type": "code",
        "colab": {}
      },
      "source": [
        "class Classifier(Model):\n",
        "  def __init__(self):\n",
        "    super(Classifier, self).__init__()\n",
        "    self.conv1 = Conv2D(16, (5,5), activation='relu', padding = 'same')\n",
        "    self.maxpool = MaxPool2D(2,2)\n",
        "    self.conv2 = Conv2D(32, (5,5), activation='relu', padding = 'same')\n",
        "    self.conv3 = Conv2D(64, (3,3), activation='relu', padding = 'same')\n",
        "    self.conv4 = Conv2D(128, (3,3), activation='relu', padding = 'same')\n",
        "    self.flatten = Flatten()\n",
        "    self.dense1 = Dense(512, activation='relu')\n",
        "    self.dense2 = Dense(1, activation='sigmoid')\n",
        "\n",
        "  def call(self, inputs):\n",
        "    x = self.conv1(inputs)\n",
        "    x = self.maxpool(x)\n",
        "    x = self.conv2(x)\n",
        "    x = self.maxpool(x)\n",
        "    x = self.conv3(x)\n",
        "    x = self.maxpool(x)\n",
        "    x = self.conv4(x)\n",
        "    x = self.maxpool(x)\n",
        "    x = self.flatten(x)\n",
        "    x = self.dense1(x)\n",
        "    x = self.dense2(x)\n",
        "    return x"
      ],
      "execution_count": null,
      "outputs": []
    },
    {
      "cell_type": "code",
      "metadata": {
        "id": "lthCdMgXYVrp",
        "colab_type": "code",
        "colab": {}
      },
      "source": [
        "classifier = Classifier()\n",
        "\n",
        "classifier.compile(optimizer='adam', loss='binary_crossentropy', metrics = ['accuracy'])"
      ],
      "execution_count": null,
      "outputs": []
    },
    {
      "cell_type": "code",
      "metadata": {
        "id": "CIPd18WbsOdB",
        "colab_type": "code",
        "colab": {
          "base_uri": "https://localhost:8080/",
          "height": 420
        },
        "outputId": "7271b9ec-f6c1-4b6d-d90e-74f4e90487f0"
      },
      "source": [
        "classifier.build(input_shape = (128, 150, 150, 3))\n",
        "classifier.summary()"
      ],
      "execution_count": null,
      "outputs": [
        {
          "output_type": "stream",
          "text": [
            "Model: \"classifier\"\n",
            "_________________________________________________________________\n",
            "Layer (type)                 Output Shape              Param #   \n",
            "=================================================================\n",
            "conv2d (Conv2D)              multiple                  1216      \n",
            "_________________________________________________________________\n",
            "max_pooling2d (MaxPooling2D) multiple                  0         \n",
            "_________________________________________________________________\n",
            "conv2d_1 (Conv2D)            multiple                  12832     \n",
            "_________________________________________________________________\n",
            "conv2d_2 (Conv2D)            multiple                  18496     \n",
            "_________________________________________________________________\n",
            "conv2d_3 (Conv2D)            multiple                  73856     \n",
            "_________________________________________________________________\n",
            "flatten (Flatten)            multiple                  0         \n",
            "_________________________________________________________________\n",
            "dense (Dense)                multiple                  5308928   \n",
            "_________________________________________________________________\n",
            "dense_1 (Dense)              multiple                  513       \n",
            "=================================================================\n",
            "Total params: 5,415,841\n",
            "Trainable params: 5,415,841\n",
            "Non-trainable params: 0\n",
            "_________________________________________________________________\n"
          ],
          "name": "stdout"
        }
      ]
    },
    {
      "cell_type": "markdown",
      "metadata": {
        "id": "v3nSmFdf4Wwg",
        "colab_type": "text"
      },
      "source": [
        "### Define Callbacks"
      ]
    },
    {
      "cell_type": "code",
      "metadata": {
        "id": "R0BZG8vPyWVW",
        "colab_type": "code",
        "colab": {}
      },
      "source": [
        "# Save Checkpoints in your Drive if you want to restart training for a particular epoch\n",
        "# Include the epoch in the file name (uses `str.format`)\n",
        "checkpoint_path = \"/content/gdrive/My Drive/Checkpoints/cp{epoch:04d}.ckpt\" \n",
        "checkpoint_dir = os.path.dirname(checkpoint_path)\n",
        "\n",
        "try:\n",
        "  os.mkdir(checkpoint_dir)\n",
        "except OSError:\n",
        "  pass"
      ],
      "execution_count": null,
      "outputs": []
    },
    {
      "cell_type": "code",
      "metadata": {
        "id": "HOA0YoljeCsh",
        "colab_type": "code",
        "colab": {}
      },
      "source": [
        "# Create a callback that saves the model's weights every epoch and keeps the best weights after completion of training\n",
        "cp_callback = tf.keras.callbacks.ModelCheckpoint(\n",
        "    filepath=checkpoint_path, \n",
        "    verbose=1, \n",
        "    save_weights_only=True,\n",
        "    save_best_only=True,\n",
        "    save_freq='epoch')\n",
        "\n",
        "early_stop_callback = tf.keras.callbacks.EarlyStopping(monitor='val_loss', patience = 3, restore_best_weights=True, min_delta = 0.001)"
      ],
      "execution_count": null,
      "outputs": []
    },
    {
      "cell_type": "markdown",
      "metadata": {
        "id": "JutWdDqzeAgw",
        "colab_type": "text"
      },
      "source": [
        "### Train"
      ]
    },
    {
      "cell_type": "code",
      "metadata": {
        "id": "baAS6M_5YXm-",
        "colab_type": "code",
        "colab": {
          "base_uri": "https://localhost:8080/",
          "height": 709
        },
        "outputId": "07484a25-0dc8-4202-f72d-c51983f3fecb"
      },
      "source": [
        "history = classifier.fit(train_generator, validation_data=validation_generator, epochs = 10, callbacks = [early_stop_callback, cp_callback])"
      ],
      "execution_count": null,
      "outputs": [
        {
          "output_type": "stream",
          "text": [
            "Epoch 1/10\n",
            "194/194 [==============================] - ETA: 0s - loss: 0.6840 - accuracy: 0.5656\n",
            "Epoch 00001: val_loss improved from inf to 0.65249, saving model to /content/gdrive/My Drive/Checkpoints/cp0001.ckpt\n",
            "194/194 [==============================] - 184s 947ms/step - loss: 0.6840 - accuracy: 0.5656 - val_loss: 0.6525 - val_accuracy: 0.5801\n",
            "Epoch 2/10\n",
            "194/194 [==============================] - ETA: 0s - loss: 0.6213 - accuracy: 0.6504\n",
            "Epoch 00002: val_loss improved from 0.65249 to 0.57254, saving model to /content/gdrive/My Drive/Checkpoints/cp0002.ckpt\n",
            "194/194 [==============================] - 183s 942ms/step - loss: 0.6213 - accuracy: 0.6504 - val_loss: 0.5725 - val_accuracy: 0.6908\n",
            "Epoch 3/10\n",
            "194/194 [==============================] - ETA: 0s - loss: 0.5870 - accuracy: 0.6844\n",
            "Epoch 00003: val_loss improved from 0.57254 to 0.51552, saving model to /content/gdrive/My Drive/Checkpoints/cp0003.ckpt\n",
            "194/194 [==============================] - 183s 945ms/step - loss: 0.5870 - accuracy: 0.6844 - val_loss: 0.5155 - val_accuracy: 0.7430\n",
            "Epoch 4/10\n",
            "194/194 [==============================] - ETA: 0s - loss: 0.5564 - accuracy: 0.7128\n",
            "Epoch 00004: val_loss improved from 0.51552 to 0.48309, saving model to /content/gdrive/My Drive/Checkpoints/cp0004.ckpt\n",
            "194/194 [==============================] - 183s 942ms/step - loss: 0.5564 - accuracy: 0.7128 - val_loss: 0.4831 - val_accuracy: 0.7699\n",
            "Epoch 5/10\n",
            "194/194 [==============================] - ETA: 0s - loss: 0.5195 - accuracy: 0.7421\n",
            "Epoch 00005: val_loss did not improve from 0.48309\n",
            "194/194 [==============================] - 182s 936ms/step - loss: 0.5195 - accuracy: 0.7421 - val_loss: 0.5037 - val_accuracy: 0.7505\n",
            "Epoch 6/10\n",
            "194/194 [==============================] - ETA: 0s - loss: 0.4966 - accuracy: 0.7586\n",
            "Epoch 00006: val_loss improved from 0.48309 to 0.40554, saving model to /content/gdrive/My Drive/Checkpoints/cp0006.ckpt\n",
            "194/194 [==============================] - 183s 945ms/step - loss: 0.4966 - accuracy: 0.7586 - val_loss: 0.4055 - val_accuracy: 0.8134\n",
            "Epoch 7/10\n",
            "194/194 [==============================] - ETA: 0s - loss: 0.4775 - accuracy: 0.7707\n",
            "Epoch 00007: val_loss improved from 0.40554 to 0.38269, saving model to /content/gdrive/My Drive/Checkpoints/cp0007.ckpt\n",
            "194/194 [==============================] - 183s 941ms/step - loss: 0.4775 - accuracy: 0.7707 - val_loss: 0.3827 - val_accuracy: 0.8306\n",
            "Epoch 8/10\n",
            "194/194 [==============================] - ETA: 0s - loss: 0.4521 - accuracy: 0.7862\n",
            "Epoch 00008: val_loss improved from 0.38269 to 0.35027, saving model to /content/gdrive/My Drive/Checkpoints/cp0008.ckpt\n",
            "194/194 [==============================] - 184s 951ms/step - loss: 0.4521 - accuracy: 0.7862 - val_loss: 0.3503 - val_accuracy: 0.8491\n",
            "Epoch 9/10\n",
            "194/194 [==============================] - ETA: 0s - loss: 0.4210 - accuracy: 0.8083\n",
            "Epoch 00009: val_loss did not improve from 0.35027\n",
            "194/194 [==============================] - 185s 951ms/step - loss: 0.4210 - accuracy: 0.8083 - val_loss: 0.3689 - val_accuracy: 0.8350\n",
            "Epoch 10/10\n",
            "194/194 [==============================] - ETA: 0s - loss: 0.4175 - accuracy: 0.8066\n",
            "Epoch 00010: val_loss improved from 0.35027 to 0.32532, saving model to /content/gdrive/My Drive/Checkpoints/cp0010.ckpt\n",
            "194/194 [==============================] - 184s 951ms/step - loss: 0.4175 - accuracy: 0.8066 - val_loss: 0.3253 - val_accuracy: 0.8541\n"
          ],
          "name": "stdout"
        }
      ]
    },
    {
      "cell_type": "markdown",
      "metadata": {
        "id": "RPjpD5vbYjIm",
        "colab_type": "text"
      },
      "source": [
        "### Freeze Model\n",
        "We need to Freeze the model before deploying on OpenVino"
      ]
    },
    {
      "cell_type": "code",
      "metadata": {
        "id": "dY5rLZ8BYpzv",
        "colab_type": "code",
        "colab": {}
      },
      "source": [
        "for layer in classifier.layers:\n",
        "  layer.trainable = False"
      ],
      "execution_count": null,
      "outputs": []
    },
    {
      "cell_type": "markdown",
      "metadata": {
        "id": "EFhvqMzmeY7M",
        "colab_type": "text"
      },
      "source": [
        "### Save Model\n",
        "This will save the model's architecture, weights and training configuration. This allows you to export a model o it can be used without access to the original Python code.\n",
        "\n",
        "Saving a fully-functional model is useful as you can load them in TensorFlow.js, run on mobile devices using TF Lite"
      ]
    },
    {
      "cell_type": "code",
      "metadata": {
        "id": "v3Wgu580ZnUz",
        "colab_type": "code",
        "colab": {}
      },
      "source": [
        "# Save Model in your Drive if you want to restart training for a particular epoch\n",
        "model_path = \"/content/gdrive/My Drive/Models/pet_classification\" \n",
        "model_dir = os.path.dirname(model_path)\n",
        "\n",
        "try:\n",
        "  os.mkdir(model_dir)\n",
        "except OSError:\n",
        "  pass"
      ],
      "execution_count": null,
      "outputs": []
    },
    {
      "cell_type": "code",
      "metadata": {
        "id": "BDJZdGLn34t9",
        "colab_type": "code",
        "colab": {
          "base_uri": "https://localhost:8080/",
          "height": 104
        },
        "outputId": "698116af-b6ee-483b-b83d-f32dfa3a1fb3"
      },
      "source": [
        "classifier.save(model_path)"
      ],
      "execution_count": null,
      "outputs": [
        {
          "output_type": "stream",
          "text": [
            "WARNING:tensorflow:From /usr/local/lib/python3.6/dist-packages/tensorflow/python/ops/resource_variable_ops.py:1817: calling BaseResourceVariable.__init__ (from tensorflow.python.ops.resource_variable_ops) with constraint is deprecated and will be removed in a future version.\n",
            "Instructions for updating:\n",
            "If using Keras pass *_constraint arguments to layers.\n",
            "INFO:tensorflow:Assets written to: /content/gdrive/My Drive/Models/pet_classification/assets\n"
          ],
          "name": "stdout"
        }
      ]
    },
    {
      "cell_type": "markdown",
      "metadata": {
        "id": "8DHX3S9feo07",
        "colab_type": "text"
      },
      "source": [
        "To Load the saved model you can use the following code"
      ]
    },
    {
      "cell_type": "code",
      "metadata": {
        "id": "be8v7MNvZgze",
        "colab_type": "code",
        "colab": {}
      },
      "source": [
        "classifier = tf.keras.models.load_model(model_path)"
      ],
      "execution_count": null,
      "outputs": []
    },
    {
      "cell_type": "markdown",
      "metadata": {
        "id": "3rUR2FRY3pIC",
        "colab_type": "text"
      },
      "source": [
        "## To Do\n",
        "1. Add more comments\n",
        "2. Try Improving val accuracy to 95%\n",
        "3. Plots\n",
        "4. (New) add keras tuner\n",
        "5. Add TensorBoard "
      ]
    },
    {
      "cell_type": "code",
      "metadata": {
        "id": "JYhsleAwi1r8",
        "colab_type": "code",
        "colab": {}
      },
      "source": [
        "path1 =  \"/content/gdrive/My Drive/images/c2.jpg\"\n",
        "\n",
        "from keras.preprocessing import image\n",
        "import numpy as np"
      ],
      "execution_count": null,
      "outputs": []
    },
    {
      "cell_type": "code",
      "metadata": {
        "id": "MvspmG3fN-Du",
        "colab_type": "code",
        "colab": {
          "base_uri": "https://localhost:8080/",
          "height": 200
        },
        "outputId": "7742eeb6-9d1a-4a03-e9c6-235dc507caff"
      },
      "source": [
        "from IPython.display import Image \n",
        "\n",
        "Image(path1)"
      ],
      "execution_count": null,
      "outputs": [
        {
          "output_type": "execute_result",
          "data": {
            "image/jpeg": "[encoded data removed]",
            "text/plain": [
              "<IPython.core.display.Image object>"
            ]
          },
          "metadata": {
            "tags": []
          },
          "execution_count": 50
        }
      ]
    },
    {
      "cell_type": "code",
      "metadata": {
        "id": "Q4kUG1MFLyVk",
        "colab_type": "code",
        "colab": {}
      },
      "source": [
        "img1 = image.load_img(path1, target_size=(150, 150))\n",
        "img_arr =  image.img_to_array(img1)\n",
        "x = np.expand_dims(img_arr, axis=0)"
      ],
      "execution_count": null,
      "outputs": []
    },
    {
      "cell_type": "code",
      "metadata": {
        "id": "1ltFBygiJg7p",
        "colab_type": "code",
        "colab": {}
      },
      "source": [
        "y = classifier.predict(x)[0][0]"
      ],
      "execution_count": null,
      "outputs": []
    },
    {
      "cell_type": "code",
      "metadata": {
        "id": "oIrKZF3qKxeB",
        "colab_type": "code",
        "colab": {
          "base_uri": "https://localhost:8080/",
          "height": 34
        },
        "outputId": "1417a5ec-6b22-4001-f688-be4f7a7ec84d"
      },
      "source": [
        "if int(y) == 1:\n",
        "  print(\"dog\")\n",
        "else:\n",
        "  print(\"cat\")"
      ],
      "execution_count": null,
      "outputs": [
        {
          "output_type": "stream",
          "text": [
            "dog\n"
          ],
          "name": "stdout"
        }
      ]
    },
    {
      "cell_type": "code",
      "metadata": {
        "id": "OgsyWMRvTbHP",
        "colab_type": "code",
        "colab": {}
      },
      "source": [
        ""
      ],
      "execution_count": null,
      "outputs": []
    }
  ]
}