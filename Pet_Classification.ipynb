{
  "nbformat": 4,
  "nbformat_minor": 0,
  "metadata": {
    "colab": {
      "name": "Pet Classification.ipynb",
      "provenance": [],
      "collapsed_sections": [],
      "authorship_tag": "ABX9TyMNXmByfn9f0Vw+LFQTTA7+",
      "include_colab_link": true
    },
    "kernelspec": {
      "name": "python3",
      "display_name": "Python 3"
    },
    "accelerator": "GPU"
  },
  "cells": [
    {
      "cell_type": "markdown",
      "metadata": {
        "id": "view-in-github",
        "colab_type": "text"
      },
      "source": [
        "<a href=\"https://colab.research.google.com/github/aivis-ai/pet-classification/blob/master/Pet_Classification.ipynb\" target=\"_parent\"><img src=\"https://colab.research.google.com/assets/colab-badge.svg\" alt=\"Open In Colab\"/></a>"
      ]
    },
    {
      "cell_type": "markdown",
      "metadata": {
        "id": "zqsAGQzmBudA",
        "colab_type": "text"
      },
      "source": [
        "# Cats v/s Dogs Classification"
      ]
    },
    {
      "cell_type": "markdown",
      "metadata": {
        "id": "k3lW-xn5D1es",
        "colab_type": "text"
      },
      "source": [
        "### Note - Change runtime to GPU"
      ]
    },
    {
      "cell_type": "markdown",
      "metadata": {
        "id": "lHpou40_C352",
        "colab_type": "text"
      },
      "source": [
        "## Imports"
      ]
    },
    {
      "cell_type": "code",
      "metadata": {
        "id": "CXDQxGKRBDtR",
        "colab_type": "code",
        "colab": {}
      },
      "source": [
        "import os\n",
        "from zipfile import ZipFile\n",
        "import shutil\n",
        "import random\n",
        "\n",
        "import numpy as np\n",
        "import tensorflow as tf\n",
        "from tensorflow.keras.preprocessing.image import ImageDataGenerator\n",
        "\n",
        "from tensorflow.keras import Model\n",
        "from tensorflow.keras.layers import InputLayer, Conv2D, MaxPool2D, Flatten, Dense"
      ],
      "execution_count": 0,
      "outputs": []
    },
    {
      "cell_type": "code",
      "metadata": {
        "id": "gGEZYG60x76c",
        "colab_type": "code",
        "outputId": "bb03d960-6ed7-4479-c79c-5c65d3fc628d",
        "colab": {
          "base_uri": "https://localhost:8080/",
          "height": 34
        }
      },
      "source": [
        "print(tf.version.VERSION)"
      ],
      "execution_count": 0,
      "outputs": [
        {
          "output_type": "stream",
          "text": [
            "1.15.2\n"
          ],
          "name": "stdout"
        }
      ]
    },
    {
      "cell_type": "markdown",
      "metadata": {
        "id": "sXpZpZKeC_Kt",
        "colab_type": "text"
      },
      "source": [
        "## Dataset Prep"
      ]
    },
    {
      "cell_type": "markdown",
      "metadata": {
        "id": "k9fHZWK3B05S",
        "colab_type": "text"
      },
      "source": [
        "### Get the Dataset\n",
        "1. Download the Dataset from here - https://www.kaggle.com/c/dogs-vs-cats/data.  \n",
        "2. Upload it to your Google Drive and then use the following code to mount the dataset on Google Colab  \n",
        "a. !cp '/content/gdrive/My Drive/< file_path_on_google_drive >' < file_path_in_colab >"
      ]
    },
    {
      "cell_type": "code",
      "metadata": {
        "id": "do-L2fga__FK",
        "colab_type": "code",
        "outputId": "63e118bd-1146-4431-c124-0c010b4917ae",
        "colab": {
          "base_uri": "https://localhost:8080/",
          "height": 34
        }
      },
      "source": [
        "from google.colab import drive\n",
        "drive.mount('/content/gdrive')\n",
        "\n",
        "!cp '/content/gdrive/My Drive/Datasets/dogs-vs-cats.zip' '/tmp/dogs-vs-cats.zip'"
      ],
      "execution_count": 0,
      "outputs": [
        {
          "output_type": "stream",
          "text": [
            "Drive already mounted at /content/gdrive; to attempt to forcibly remount, call drive.mount(\"/content/gdrive\", force_remount=True).\n"
          ],
          "name": "stdout"
        }
      ]
    },
    {
      "cell_type": "markdown",
      "metadata": {
        "id": "JLkOqxLPELKH",
        "colab_type": "text"
      },
      "source": [
        "### Unzip the data"
      ]
    },
    {
      "cell_type": "code",
      "metadata": {
        "id": "uJtaz59auWaL",
        "colab_type": "code",
        "colab": {}
      },
      "source": [
        "zip_location = '/tmp/dogs-vs-cats.zip'\n",
        "\n",
        "with ZipFile(zip_location, 'r') as zip:\n",
        "  zip.extractall('/tmp')"
      ],
      "execution_count": 0,
      "outputs": []
    },
    {
      "cell_type": "code",
      "metadata": {
        "id": "O4OTTq8AC6pj",
        "colab_type": "code",
        "colab": {}
      },
      "source": [
        "train_zip_location = '/tmp/train.zip'\n",
        "test_zip_location = '/tmp/test1.zip'\n",
        "test_csv_location = '/tmp/sampleSubmission.csv'"
      ],
      "execution_count": 0,
      "outputs": []
    },
    {
      "cell_type": "code",
      "metadata": {
        "id": "eeXOUQTZDYH-",
        "colab_type": "code",
        "colab": {}
      },
      "source": [
        "with ZipFile(train_zip_location, 'r') as zip:\n",
        "  zip.extractall('/tmp')"
      ],
      "execution_count": 0,
      "outputs": []
    },
    {
      "cell_type": "code",
      "metadata": {
        "id": "ToH--3vuDdue",
        "colab_type": "code",
        "colab": {}
      },
      "source": [
        "with ZipFile(test_zip_location, 'r') as zip:\n",
        "  zip.extractall('/tmp')"
      ],
      "execution_count": 0,
      "outputs": []
    },
    {
      "cell_type": "markdown",
      "metadata": {
        "id": "pjDaFvtIFrk_",
        "colab_type": "text"
      },
      "source": [
        "### Define Paths and Create Directories"
      ]
    },
    {
      "cell_type": "code",
      "metadata": {
        "id": "3436OWJwE_zB",
        "colab_type": "code",
        "colab": {}
      },
      "source": [
        "base_path = '/tmp'\n",
        "\n",
        "source_path = os.path.join(base_path, 'train') \n",
        "\n",
        "train_path = os.path.join(base_path, 'training')\n",
        "validation_path = os.path.join(base_path, 'validation')\n",
        "test_path = os.path.join(base_path, 'test1')\n",
        "\n",
        "train_cats_dir = os.path.join(train_path, 'cats')\n",
        "train_dogs_dir = os.path.join(train_path, 'dogs')\n",
        "\n",
        "validation_cats_dir = os.path.join(validation_path, 'cats')\n",
        "validation_dogs_dir = os.path.join(validation_path, 'dogs')"
      ],
      "execution_count": 0,
      "outputs": []
    },
    {
      "cell_type": "code",
      "metadata": {
        "id": "SmPs-OIuFnYy",
        "colab_type": "code",
        "colab": {}
      },
      "source": [
        "try:\n",
        "  os.mkdir(train_path)\n",
        "  os.mkdir(validation_path)\n",
        "  os.mkdir(train_cats_dir)\n",
        "  os.mkdir(train_dogs_dir)\n",
        "  os.mkdir(validation_cats_dir)\n",
        "  os.mkdir(validation_dogs_dir)\n",
        "except OSError:\n",
        "  pass"
      ],
      "execution_count": 0,
      "outputs": []
    },
    {
      "cell_type": "markdown",
      "metadata": {
        "id": "p62ROtP3Hfv-",
        "colab_type": "text"
      },
      "source": [
        "### Use 90% of Files for Training and 10% for Validation "
      ]
    },
    {
      "cell_type": "code",
      "metadata": {
        "id": "HZy1DtFmKgCD",
        "colab_type": "code",
        "colab": {}
      },
      "source": [
        "def copyfiles(source, list_of_files, train_dir, validation_dir, split_ratio=0.9):\n",
        "  random.shuffle(list_of_files)\n",
        "  split = int(len(list_of_files)*split_ratio)\n",
        "  train_data, validation_data = list_of_files[:split], list_of_files[split:]\n",
        "\n",
        "  for filename in train_data:\n",
        "    shutil.copyfile(os.path.join(source,filename), os.path.join(train_dir,filename))\n",
        "  \n",
        "  for filename in validation_data:\n",
        "    shutil.copyfile(os.path.join(source,filename), os.path.join(validation_dir,filename))\n"
      ],
      "execution_count": 0,
      "outputs": []
    },
    {
      "cell_type": "code",
      "metadata": {
        "id": "kYF7eJbxHKw4",
        "colab_type": "code",
        "colab": {}
      },
      "source": [
        "def split_data(source, train_cats_dir, train_dogs_dir, validation_cats_dir, validation_dogs_dir, split_ratio = 0.9):\n",
        "  all_files = os.listdir(source)\n",
        "  cat_files = []\n",
        "  dog_files = []\n",
        "\n",
        "  for filename in all_files:\n",
        "    temp = filename.split('.')\n",
        "    if temp[0] == 'cat':\n",
        "      cat_files.append(filename)\n",
        "    else:\n",
        "      dog_files.append(filename)\n",
        "\n",
        "  copyfiles(source, cat_files, train_cats_dir, validation_cats_dir, split_ratio)\n",
        "  copyfiles(source, dog_files, train_dogs_dir, validation_dogs_dir, split_ratio)\n",
        "\n",
        "  return\n"
      ],
      "execution_count": 0,
      "outputs": []
    },
    {
      "cell_type": "code",
      "metadata": {
        "id": "1tnj51ZnMR-3",
        "colab_type": "code",
        "colab": {}
      },
      "source": [
        "split_data(source_path, train_cats_dir, train_dogs_dir, validation_cats_dir, validation_dogs_dir, 0.9)"
      ],
      "execution_count": 0,
      "outputs": []
    },
    {
      "cell_type": "markdown",
      "metadata": {
        "id": "XuWCEApzSGX3",
        "colab_type": "text"
      },
      "source": [
        "### Data Preprocessing"
      ]
    },
    {
      "cell_type": "code",
      "metadata": {
        "id": "NXt3iChMQLn4",
        "colab_type": "code",
        "outputId": "9a3c67f4-50ef-4a15-f00e-f20417e57ff7",
        "colab": {
          "base_uri": "https://localhost:8080/",
          "height": 51
        }
      },
      "source": [
        "train_datagen = ImageDataGenerator(rescale = 1./255,\n",
        "                                   rotation_range = 40,\n",
        "                                   width_shift_range = 0.2,\n",
        "                                   height_shift_range = 0.2,\n",
        "                                   shear_range = 0.2,\n",
        "                                   zoom_range = 0.2,\n",
        "                                   horizontal_flip = True)\n",
        "\n",
        "train_generator = train_datagen.flow_from_directory(train_path, batch_size = 128, class_mode = 'binary', target_size = (150,150))\n",
        "\n",
        "validation_datagen = ImageDataGenerator(rescale = 1./255)\n",
        "\n",
        "validation_generator = validation_datagen.flow_from_directory(validation_path, batch_size = 128, class_mode = 'binary', target_size = (150, 150))"
      ],
      "execution_count": 0,
      "outputs": [
        {
          "output_type": "stream",
          "text": [
            "Found 22500 images belonging to 2 classes.\n",
            "Found 2500 images belonging to 2 classes.\n"
          ],
          "name": "stdout"
        }
      ]
    },
    {
      "cell_type": "markdown",
      "metadata": {
        "id": "oSMC06af4E7B",
        "colab_type": "text"
      },
      "source": [
        " ## Training"
      ]
    },
    {
      "cell_type": "markdown",
      "metadata": {
        "id": "DzBGE0W9u5q8",
        "colab_type": "text"
      },
      "source": [
        "Using Classes helps when you want to customize your models and it's layers - https://www.tensorflow.org/guide/keras/custom_layers_and_models \n",
        "\n",
        "If you want to Improve accuracy further you can try the following\n",
        "1. Increase Epochs\n",
        "2. Add Dropouts\n",
        "3. Add l2 regularization\n",
        "4. try adding more layers\n",
        "5. Add Batch Norm\n",
        "6. Use a PreTrained Model"
      ]
    },
    {
      "cell_type": "markdown",
      "metadata": {
        "id": "rNZT_zW34RKx",
        "colab_type": "text"
      },
      "source": [
        "### Define Model"
      ]
    },
    {
      "cell_type": "code",
      "metadata": {
        "id": "9pZLMxXHW7bG",
        "colab_type": "code",
        "colab": {}
      },
      "source": [
        "class Classifier(Model):\n",
        "  def __init__(self):\n",
        "    super(Classifier, self).__init__()\n",
        "    self.conv1 = Conv2D(16, (5,5), activation='relu', padding = 'same')\n",
        "    self.maxpool = MaxPool2D(2,2)\n",
        "    self.conv2 = Conv2D(32, (5,5), activation='relu', padding = 'same')\n",
        "    self.conv3 = Conv2D(64, (3,3), activation='relu', padding = 'same')\n",
        "    self.conv4 = Conv2D(128, (3,3), activation='relu', padding = 'same')\n",
        "    self.flatten = Flatten()\n",
        "    self.dense1 = Dense(512, activation='relu')\n",
        "    self.dense2 = Dense(1, activation='sigmoid')\n",
        "\n",
        "  def call(self, inputs):\n",
        "    x = self.conv1(inputs)\n",
        "    x = self.maxpool(x)\n",
        "    x = self.conv2(x)\n",
        "    x = self.maxpool(x)\n",
        "    x = self.conv3(x)\n",
        "    x = self.maxpool(x)\n",
        "    x = self.conv4(x)\n",
        "    x = self.maxpool(x)\n",
        "    x = self.flatten(x)\n",
        "    x = self.dense1(x)\n",
        "    x = self.dense2(x)\n",
        "    return x"
      ],
      "execution_count": 0,
      "outputs": []
    },
    {
      "cell_type": "code",
      "metadata": {
        "id": "lthCdMgXYVrp",
        "colab_type": "code",
        "colab": {}
      },
      "source": [
        "classifier = Classifier()\n",
        "\n",
        "classifier.compile(optimizer='adam', loss='binary_crossentropy', metrics = ['accuracy'])"
      ],
      "execution_count": 0,
      "outputs": []
    },
    {
      "cell_type": "code",
      "metadata": {
        "id": "CIPd18WbsOdB",
        "colab_type": "code",
        "outputId": "0c4a0b8c-c122-40e6-cfaa-b9f1b7c9c9b1",
        "colab": {
          "base_uri": "https://localhost:8080/",
          "height": 496
        }
      },
      "source": [
        "classifier.build(input_shape = (128, 150, 150, 3))\n",
        "classifier.summary()"
      ],
      "execution_count": 0,
      "outputs": [
        {
          "output_type": "stream",
          "text": [
            "WARNING:tensorflow:From /tensorflow-1.15.2/python3.6/tensorflow_core/python/ops/resource_variable_ops.py:1630: calling BaseResourceVariable.__init__ (from tensorflow.python.ops.resource_variable_ops) with constraint is deprecated and will be removed in a future version.\n",
            "Instructions for updating:\n",
            "If using Keras pass *_constraint arguments to layers.\n",
            "Model: \"classifier\"\n",
            "_________________________________________________________________\n",
            "Layer (type)                 Output Shape              Param #   \n",
            "=================================================================\n",
            "conv2d (Conv2D)              multiple                  1216      \n",
            "_________________________________________________________________\n",
            "max_pooling2d (MaxPooling2D) multiple                  0         \n",
            "_________________________________________________________________\n",
            "conv2d_1 (Conv2D)            multiple                  12832     \n",
            "_________________________________________________________________\n",
            "conv2d_2 (Conv2D)            multiple                  18496     \n",
            "_________________________________________________________________\n",
            "conv2d_3 (Conv2D)            multiple                  73856     \n",
            "_________________________________________________________________\n",
            "flatten (Flatten)            multiple                  0         \n",
            "_________________________________________________________________\n",
            "dense (Dense)                multiple                  5308928   \n",
            "_________________________________________________________________\n",
            "dense_1 (Dense)              multiple                  513       \n",
            "=================================================================\n",
            "Total params: 5,415,841\n",
            "Trainable params: 5,415,841\n",
            "Non-trainable params: 0\n",
            "_________________________________________________________________\n"
          ],
          "name": "stdout"
        }
      ]
    },
    {
      "cell_type": "markdown",
      "metadata": {
        "id": "v3nSmFdf4Wwg",
        "colab_type": "text"
      },
      "source": [
        "### Define Callbacks"
      ]
    },
    {
      "cell_type": "code",
      "metadata": {
        "id": "R0BZG8vPyWVW",
        "colab_type": "code",
        "colab": {}
      },
      "source": [
        "# Save Checkpoints in your Drive if you want to restart training for a particular epoch\n",
        "# Include the epoch in the file name (uses `str.format`)\n",
        "checkpoint_path = \"/content/gdrive/My Drive/Checkpoints/cp{epoch:04d}.ckpt\" \n",
        "checkpoint_dir = os.path.dirname(checkpoint_path)\n",
        "\n",
        "try:\n",
        "  os.mkdir(checkpoint_dir)\n",
        "except OSError:\n",
        "  pass"
      ],
      "execution_count": 0,
      "outputs": []
    },
    {
      "cell_type": "code",
      "metadata": {
        "id": "HOA0YoljeCsh",
        "colab_type": "code",
        "colab": {}
      },
      "source": [
        "# Create a callback that saves the model's weights every epoch and keeps the best weights after completion of training\n",
        "cp_callback = tf.keras.callbacks.ModelCheckpoint(\n",
        "    filepath=checkpoint_path, \n",
        "    verbose=1, \n",
        "    save_weights_only=True,\n",
        "    save_best_only=True,\n",
        "    save_freq='epoch')\n",
        "\n",
        "early_stop_callback = tf.keras.callbacks.EarlyStopping(monitor='val_loss', patience = 3, restore_best_weights=True, min_delta = 0.001)"
      ],
      "execution_count": 0,
      "outputs": []
    },
    {
      "cell_type": "markdown",
      "metadata": {
        "id": "JutWdDqzeAgw",
        "colab_type": "text"
      },
      "source": [
        "### Train"
      ]
    },
    {
      "cell_type": "code",
      "metadata": {
        "id": "baAS6M_5YXm-",
        "colab_type": "code",
        "outputId": "55fee4ff-d876-42ca-8bac-eca86fdaf6aa",
        "colab": {
          "base_uri": "https://localhost:8080/",
          "height": 326
        }
      },
      "source": [
        "history = classifier.fit(train_generator, validation_data=validation_generator, epochs = 10, callbacks = [early_stop_callback, cp_callback])"
      ],
      "execution_count": 0,
      "outputs": [
        {
          "output_type": "stream",
          "text": [
            "Epoch 1/10\n",
            "WARNING:tensorflow:Entity <bound method Classifier.call of <__main__.Classifier object at 0x7f6dcba0de48>> could not be transformed and will be executed as-is. Please report this to the AutoGraph team. When filing the bug, set the verbosity to 10 (on Linux, `export AUTOGRAPH_VERBOSITY=10`) and attach the full output. Cause: Bad argument number for Name: 3, expecting 4\n",
            "WARNING: Entity <bound method Classifier.call of <__main__.Classifier object at 0x7f6dcba0de48>> could not be transformed and will be executed as-is. Please report this to the AutoGraph team. When filing the bug, set the verbosity to 10 (on Linux, `export AUTOGRAPH_VERBOSITY=10`) and attach the full output. Cause: Bad argument number for Name: 3, expecting 4\n",
            "WARNING:tensorflow:From /tensorflow-1.15.2/python3.6/tensorflow_core/python/ops/nn_impl.py:183: where (from tensorflow.python.ops.array_ops) is deprecated and will be removed in a future version.\n",
            "Instructions for updating:\n",
            "Use tf.where in 2.0, which has the same broadcast rule as np.where\n",
            "175/176 [============================>.] - ETA: 0s - loss: 0.6629 - acc: 0.5698Epoch 1/10\n",
            " 20/176 [==>...........................] - ETA: 1:28 - loss: 0.6433 - acc: 0.6396\n",
            "Epoch 00001: val_loss improved from inf to 0.64330, saving model to /content/gdrive/My Drive/Checkpoints/cp0001.ckpt\n",
            "176/176 [==============================] - 183s 1s/step - loss: 0.6628 - acc: 0.5701 - val_loss: 0.6433 - val_acc: 0.6396\n",
            "Epoch 2/10\n",
            "175/176 [============================>.] - ETA: 0s - loss: 0.6073 - acc: 0.6515Epoch 1/10\n",
            " 20/176 [==>...........................] - ETA: 1:27 - loss: 0.5534 - acc: 0.7264\n",
            "Epoch 00002: val_loss improved from 0.64330 to 0.55338, saving model to /content/gdrive/My Drive/Checkpoints/cp0002.ckpt\n",
            "176/176 [==============================] - 166s 943ms/step - loss: 0.6070 - acc: 0.6517 - val_loss: 0.5534 - val_acc: 0.7264\n",
            "Epoch 3/10\n",
            "122/176 [===================>..........] - ETA: 46s - loss: 0.5746 - acc: 0.6990"
          ],
          "name": "stdout"
        }
      ]
    },
    {
      "cell_type": "markdown",
      "metadata": {
        "id": "RPjpD5vbYjIm",
        "colab_type": "text"
      },
      "source": [
        "### Freeze Model\n",
        "We need to Freeze the model before deploying on OpenVino"
      ]
    },
    {
      "cell_type": "code",
      "metadata": {
        "id": "dY5rLZ8BYpzv",
        "colab_type": "code",
        "colab": {}
      },
      "source": [
        "for layer in classifier.layers:\n",
        "  layer.trainable = False"
      ],
      "execution_count": 0,
      "outputs": []
    },
    {
      "cell_type": "markdown",
      "metadata": {
        "id": "EFhvqMzmeY7M",
        "colab_type": "text"
      },
      "source": [
        "### Save Model\n",
        "This will save the model's architecture, weights and training configuration. This allows you to export a model o it can be used without access to the original Python code.\n",
        "\n",
        "Saving a fully-functional model is useful as you can load them in TensorFlow.js, run on mobile devices using TF Lite"
      ]
    },
    {
      "cell_type": "code",
      "metadata": {
        "id": "v3Wgu580ZnUz",
        "colab_type": "code",
        "colab": {}
      },
      "source": [
        "# Save Model in your Drive if you want to restart training for a particular epoch\n",
        "model_path = \"/content/gdrive/My Drive/Models/pet_classification\" \n",
        "model_dir = os.path.dirname(model_path)\n",
        "\n",
        "try:\n",
        "  os.mkdir(model_dir)\n",
        "except OSError:\n",
        "  pass"
      ],
      "execution_count": 0,
      "outputs": []
    },
    {
      "cell_type": "code",
      "metadata": {
        "id": "BDJZdGLn34t9",
        "colab_type": "code",
        "colab": {}
      },
      "source": [
        "classifier.save(model_path)"
      ],
      "execution_count": 0,
      "outputs": []
    },
    {
      "cell_type": "markdown",
      "metadata": {
        "id": "8DHX3S9feo07",
        "colab_type": "text"
      },
      "source": [
        "To Load the saved model you can use the following code"
      ]
    },
    {
      "cell_type": "code",
      "metadata": {
        "id": "be8v7MNvZgze",
        "colab_type": "code",
        "colab": {}
      },
      "source": [
        "classifier = tf.keras.models.load_model(model_path)"
      ],
      "execution_count": 0,
      "outputs": []
    },
    {
      "cell_type": "code",
      "metadata": {
        "id": "rs7AHDTvSPLf",
        "colab_type": "code",
        "colab": {}
      },
      "source": [
        "!pip install git+https://github.com/onnx/tensorflow-onnx"
      ],
      "execution_count": 0,
      "outputs": []
    },
    {
      "cell_type": "code",
      "metadata": {
        "id": "Ni04YXewangh",
        "colab_type": "code",
        "colab": {}
      },
      "source": [
        "!python -m tf2onnx.convert --saved-model '/content/gdrive/My Drive/Models/pet_classification' --output '/content/gdrive/My Drive/Models/model.onnx'"
      ],
      "execution_count": 0,
      "outputs": []
    },
    {
      "cell_type": "code",
      "metadata": {
        "id": "t9lux6y4a4b_",
        "colab_type": "code",
        "colab": {}
      },
      "source": [
        "from tensorflow.python.framework.convert_to_constants import convert_variables_to_constants_v2\n",
        "\n",
        "\n",
        "def freeze(model, outputdir):\n",
        "# Convert Keras model to ConcreteFunction\n",
        "    full_model = tf.function(lambda x: model(x))\n",
        "    full_model = full_model.get_concrete_function(\n",
        "        tf.TensorSpec((1, 150, 150, 3), tf.float32)\n",
        "    )\n",
        "    frozen_func = convert_variables_to_constants_v2(full_model)\n",
        "    frozen_func.graph.as_graph_def()\n",
        "    # Save frozen graph from frozen ConcreteFunction to hard drive\n",
        "    path = tf.io.write_graph(graph_or_graph_def=frozen_func.graph,\n",
        "                      logdir=outputdir,\n",
        "                      name=\"frozen_graph.pb\",\n",
        "                      as_text=False)\n",
        "\n",
        "    print(path)\n",
        "    layers = [op.name for op in frozen_func.graph.get_operations()]\n",
        "\n",
        "    print(\"Frozen model layers: \")\n",
        "    for layerName in layers:\n",
        "        print(f\"layer: {layerName}\")\n",
        " \n",
        "    print(\"-\" * 50)\n",
        "    print(\"Frozen model inputs: \")\n",
        "    print(frozen_func.inputs)\n",
        "    print(\"Frozen model outputs: \")\n",
        "    print(frozen_func.outputs)\n"
      ],
      "execution_count": 0,
      "outputs": []
    },
    {
      "cell_type": "code",
      "metadata": {
        "id": "oe3DNNTfiomM",
        "colab_type": "code",
        "colab": {}
      },
      "source": [
        "freeze(classifier, './content/gdrive/My Drive/Models/')"
      ],
      "execution_count": 0,
      "outputs": []
    },
    {
      "cell_type": "markdown",
      "metadata": {
        "id": "3rUR2FRY3pIC",
        "colab_type": "text"
      },
      "source": [
        "## To Do\n",
        "1. Add more comments\n",
        "2. Try Improving val accuracy to 95%\n",
        "3. Compare with testing data\n",
        "4. Plots\n",
        "5. (New) add keras tuner"
      ]
    },
    {
      "cell_type": "code",
      "metadata": {
        "id": "JYhsleAwi1r8",
        "colab_type": "code",
        "colab": {}
      },
      "source": [
        ""
      ],
      "execution_count": 0,
      "outputs": []
    }
  ]
}